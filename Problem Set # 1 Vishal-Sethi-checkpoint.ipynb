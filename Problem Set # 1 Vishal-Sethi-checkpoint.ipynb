{
 "cells": [
  {
   "cell_type": "code",
   "execution_count": 15,
   "id": "6e1d3e07",
   "metadata": {},
   "outputs": [
    {
     "name": "stdout",
     "output_type": "stream",
     "text": [
      "5 is <class 'int'>\n",
      "5.0 is <class 'float'>\n",
      "5 > 1 is <class 'bool'>\n",
      "'5' is <class 'str'>\n",
      "5 * 2 is <class 'int'>\n",
      "'5' * 2 is <class 'str'>\n",
      "'5' + '2' is <class 'float'>\n",
      "5 / 2 is <class 'float'>\n",
      "5 % 2 is <class 'int'>\n",
      "{5, 2, 1} is <class 'set'>\n",
      "5 == 3 is <class 'bool'>\n",
      "Pi i.e 3.14 is <class 'float'>\n"
     ]
    }
   ],
   "source": [
    "#Solution 1\n",
    "\n",
    "# what data type is each of the folloeing?\n",
    "\n",
    "print(\"5 is\",type(m))\n",
    "print(\"5.0 is\",type(n))\n",
    "print(\"5 > 1 is\",type(o))\n",
    "print(\"'5' is\",type(p))\n",
    "print(\"5 * 2 is\",type(q))\n",
    "print(\"'5' * 2 is\",type(r))\n",
    "print(\"'5' + '2' is\",type(s))\n",
    "print(\"5 / 2 is\",type(t))\n",
    "print(\"5 % 2 is\",type(u))\n",
    "print(\"{5, 2, 1} is\",type(v))\n",
    "print(\"5 == 3 is\",type(w))\n",
    "print(\"Pi i.e 3.14 is\",type(x))\n",
    "\n"
   ]
  },
  {
   "cell_type": "code",
   "execution_count": 12,
   "id": "76ebe89a",
   "metadata": {},
   "outputs": [
    {
     "name": "stdout",
     "output_type": "stream",
     "text": [
      "a. length of the String is  34\n",
      "b.Yes ice is present in string\n",
      "Supercalifragilisticexpialidocious\n",
      "Words in Dictionary order:  ['Bartok', 'Bellini', 'Berlioz', 'Bernstein', 'Borodin', 'Brian', 'Buxtehude']\n",
      "Bartok Buxtehude\n"
     ]
    }
   ],
   "source": [
    "#Solution 2\n",
    "# How many letters are in 'Supercalifragilisticexpialidocious'?\n",
    "string1 = 'Supercalifragilisticexpialidocious'\n",
    "string2 = 'Honorificabilitudinitatibus'\n",
    "string3 = 'Bababadalgharaghtakamminarronnkonn'\n",
    "print('a. length of the String is ' , len(string1))\n",
    "if string1.find('ice') > 0 :\n",
    "    print('b.Yes ice is present in string')\n",
    "else:\n",
    "    print('b. no string do not contain ice in it')\n",
    "    #c.\n",
    "largest_string = max(string1,string2,string3)\n",
    "print(largest_string)\n",
    "#d.\n",
    "words = ['Berlioz', 'Borodin', 'Brian', 'Bartok', 'Bellini', 'Buxtehude', 'Bernstein']\n",
    "words.sort()\n",
    "print('Words in Dictionary order: ' , words)\n",
    "print(words[0],words[-1])\n"
   ]
  },
  {
   "cell_type": "code",
   "execution_count": 13,
   "id": "dc8943a5",
   "metadata": {},
   "outputs": [
    {
     "name": "stdout",
     "output_type": "stream",
     "text": [
      "The area of the triangle using Heron's formula is 1.7320508075688772\n"
     ]
    }
   ],
   "source": [
    "#Solution 3\n",
    "#Let\n",
    "a = 2\n",
    "b = 2\n",
    "c = 2\n",
    "s = (a+b+c) / 2\n",
    "\n",
    "import math\n",
    "k = math.sqrt(s * (s - a) * (s -b) * (s -c) )\n",
    "print (\"The area of the triangle using Heron's formula is\", (k))"
   ]
  },
  {
   "cell_type": "code",
   "execution_count": 4,
   "id": "ea8e9c64",
   "metadata": {},
   "outputs": [
    {
     "name": "stdout",
     "output_type": "stream",
     "text": [
      "The Even elements are:\n",
      "[42, 56, 32]\n",
      "The Odd elements are :\n",
      "[25, 47]\n"
     ]
    }
   ],
   "source": [
    "#Solution 4\n",
    "\n",
    "lst = [25, 47, 42, 56, 32]\n",
    "Even = []\n",
    "Odd = []\n",
    " \n",
    "for i in lst:\n",
    "    if i % 2 == 0:\n",
    "        Even.append(i)\n",
    "    else:\n",
    "        Odd.append(i)\n",
    " \n",
    "print(\"The Even elements are:\")\n",
    "print(Even)\n",
    "print(\"The Odd elements are :\")\n",
    "print(Odd)\n"
   ]
  },
  {
   "cell_type": "code",
   "execution_count": 8,
   "id": "43cece56",
   "metadata": {},
   "outputs": [
    {
     "name": "stdout",
     "output_type": "stream",
     "text": [
      " a:\n",
      "True\n",
      "False\n",
      " b:\n",
      "False\n",
      "True\n"
     ]
    }
   ],
   "source": [
    "# Question 5\n",
    "\n",
    "# a.\n",
    "print(\" a:\")\n",
    "def point(x, y, x1, y1, x2, y2) : \n",
    "   if (x > x1 and x < x2 and y > y1 and y < y2) : \n",
    "      return True \n",
    "   else : \n",
    "      return False \n",
    "x, y = (1, 1)\n",
    "x1, y1 = (0, 0) \n",
    "x2, y2 = (2, 3) \n",
    "\n",
    "print(point(x, y, x1, y1, x2, y2))\n",
    "\n",
    "x, y = (-1, -1)\n",
    "x1, y1 = (0, 0) \n",
    "x2, y2 = (2, 3) \n",
    "\n",
    "print(point(x, y, x1, y1, x2, y2))\n",
    "\n",
    "# b.\n",
    "print(\" b:\")\n",
    "x, y = (1.0, 1.0)\n",
    "x1, y1 = (0.3, 0.5) \n",
    "x2, y2 = (1.1, 0.7) \n",
    "\n",
    "print(point(x, y, x1, y1, x2, y2))\n",
    "\n",
    "x, y = (1.0, 1.0)\n",
    "x1, y1 = (0.5, 0.2) \n",
    "x2, y2 = (1.1, 2) \n",
    "\n",
    "print(point(x, y, x1, y1, x2, y2))\n"
   ]
  },
  {
   "cell_type": "code",
   "execution_count": 16,
   "id": "ba98b2ee",
   "metadata": {},
   "outputs": [
    {
     "name": "stdout",
     "output_type": "stream",
     "text": [
      "appyhay\n",
      "Enterway\n"
     ]
    }
   ],
   "source": [
    "#Solution 6\n",
    "def pig(word):\n",
    "    vowels = (\"a\",\"e\",\"i\",\"o\",\"u\",\"A\",\"E\",\"I\",\"O\",\"U\")\n",
    "    \n",
    "    for i in word.split():\n",
    "        if word[0] in vowels:\n",
    "            return word+\"way\"\n",
    "        else:\n",
    "            return word[1:]+word[0]+\"ay\"\n",
    "        \n",
    "print(pig(\"happy\"))\n",
    "print(pig(\"Enter\"))"
   ]
  },
  {
   "cell_type": "code",
   "execution_count": 23,
   "id": "5f8a6c68",
   "metadata": {},
   "outputs": [
    {
     "name": "stdout",
     "output_type": "stream",
     "text": [
      "There are 15 patients of blood typeA\n",
      "There are 1 patients of blood typeB\n",
      "There are 13 patients of blood typeAB\n",
      "There are 15 patients of blood typeO\n",
      "There are 0 patients of blood typeOO\n"
     ]
    }
   ],
   "source": [
    "#Solution 7\n",
    "def bldcount(filename):\n",
    "    infile = open(filename)\n",
    "    bloodlst = infile.read()\n",
    "    lst = bloodlst.split()\n",
    "    for i in lst:\n",
    "        print (\"There are\",lst.count(\"A\"),\"patients of blood type\"+ \"A\")\n",
    "        print (\"There are\",lst.count(\"B\"),\"patients of blood type\"+ \"B\")\n",
    "        print (\"There are\",lst.count(\"AB\"),\"patients of blood type\"+ \"AB\")\n",
    "        print (\"There are\",lst.count(\"O\"),\"patients of blood type\"+ \"O\")\n",
    "        print (\"There are\",lst.count(\"OO\"),\"patients of blood type\"+ \"OO\")\n",
    "        break\n",
    "bldcount('bloodtype1.txt')\n"
   ]
  },
  {
   "cell_type": "code",
   "execution_count": 105,
   "id": "5257d83d",
   "metadata": {},
   "outputs": [
    {
     "name": "stdout",
     "output_type": "stream",
     "text": [
      "122.96544\n",
      "1.241401\n"
     ]
    }
   ],
   "source": [
    "# Question 8\n",
    "def curconv(x, y):\n",
    "    value = 0\n",
    "    cur = [\"AUD\",\"CHF\",\"CNY\",\"DKK\",\"EUR\",\"GBP\",\"HKD\",\"INR\",\"JPY\",\"MXN\",\"MYR\",\"NOK\",\"NZD\",\"PHP\",\"SEK\",\"SGD\",\"THB\"]\n",
    "    lst = [1.0345157,1.0237414,0.1550176,0.1651442,1.2296544,1.5550989,0.1270207,0.0177643,0.01241401,0.0751848,0.3145411,0.1677063,0.8003591,0.0233234,0.148269,0.788871,0.0313789]\n",
    "    for i in range(len(cur)):\n",
    "        if(cur[i] == x):\n",
    "            value = y * lst[i]\n",
    "            break\n",
    "    return value\n",
    "\n",
    "print(curconv(\"EUR\",100))\n",
    "print(curconv(\"JPY\",100))\n"
   ]
  },
  {
   "cell_type": "code",
   "execution_count": 5,
   "id": "689bc2fc",
   "metadata": {},
   "outputs": [
    {
     "ename": "SyntaxError",
     "evalue": "illegal target for annotation (4006202170.py, line 3)",
     "output_type": "error",
     "traceback": [
      "\u001b[1;36m  Input \u001b[1;32mIn [5]\u001b[1;36m\u001b[0m\n\u001b[1;33m    print(6+'a')// Exception : supported operand type(s) for +: 'int' and 'str'\u001b[0m\n\u001b[1;37m    ^\u001b[0m\n\u001b[1;31mSyntaxError\u001b[0m\u001b[1;31m:\u001b[0m illegal target for annotation\n"
     ]
    }
   ],
   "source": [
    "# Question 9\n",
    "\n",
    "print(6+'a')// Exception : supported operand type(s) for +: 'int' and 'str'\n",
    "list = [1,2,3,4,5,6,7,8,9,10]\n",
    "print(list[10])// Exception is list index out of range\n",
    "\n",
    "import math\n",
    "print(math.sqrt(-1))// Exception is math domain error\n",
    "print(y)// Error is name 'y' not defined\n",
    "infile = open('switch.txt')//[Errno 2] No such file or directory: 'switch.txt'"
   ]
  },
  {
   "cell_type": "code",
   "execution_count": 106,
   "id": "6ddb6f43",
   "metadata": {},
   "outputs": [
    {
     "name": "stdout",
     "output_type": "stream",
     "text": [
      "[1, 1, 1, 3, 5, 1, 1, 2, 1, 0, 1, 0, 1, 2, 4, 0, 1, 2, 0, 3, 1, 0, 1, 1, 0, 0]\n",
      "[1, 0, 0, 0, 1, 0, 0, 0, 0, 0, 0, 1, 0, 0, 0, 2, 0, 0, 0, 0, 0, 0, 0, 0, 0, 0]\n"
     ]
    }
   ],
   "source": [
    "# Question 10\n",
    "\n",
    "def frequencies(crypt):\n",
    "    string = \"abcdefghijklmnopqrstuvwxyz\"\n",
    "    #No. of alphabets \n",
    "    frq = [0] * 26 \n",
    "\n",
    "    for i in range(26):\n",
    "        for letter in crypt:\n",
    "            if string[i] == letter.lower():\n",
    "                frq[i] += 1\n",
    "    return frq\n",
    "print(frequencies('The quick red fox got bored and went home.'))\n",
    "print(frequencies('apple'))"
   ]
  }
 ],
 "metadata": {
  "kernelspec": {
   "display_name": "Python 3 (ipykernel)",
   "language": "python",
   "name": "python3"
  },
  "language_info": {
   "codemirror_mode": {
    "name": "ipython",
    "version": 3
   },
   "file_extension": ".py",
   "mimetype": "text/x-python",
   "name": "python",
   "nbconvert_exporter": "python",
   "pygments_lexer": "ipython3",
   "version": "3.9.12"
  }
 },
 "nbformat": 4,
 "nbformat_minor": 5
}
